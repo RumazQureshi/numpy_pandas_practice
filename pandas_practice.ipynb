{
  "metadata": {
    "kernelspec": {
      "name": "python",
      "display_name": "Python (Pyodide)",
      "language": "python"
    },
    "language_info": {
      "codemirror_mode": {
        "name": "python",
        "version": 3
      },
      "file_extension": ".py",
      "mimetype": "text/x-python",
      "name": "python",
      "nbconvert_exporter": "python",
      "pygments_lexer": "ipython3",
      "version": "3.8"
    }
  },
  "nbformat_minor": 5,
  "nbformat": 4,
  "cells": [
    {
      "id": "6737524d-582b-4f34-b244-0e69645addd1",
      "cell_type": "code",
      "source": "import numpy as np \nimport pandas as pd",
      "metadata": {
        "trusted": true
      },
      "outputs": [],
      "execution_count": 1
    },
    {
      "id": "02a18a53-ed36-4b46-b9c0-3d49725a3f5c",
      "cell_type": "code",
      "source": "dict1 = {\n    \"names\":['rumaz','zayyan','rohan','abhiyan','isfahan'],\n    \"marks\":[95,34,45,23,78],\n    \"city\":['karachi','islamabad','egypt','bangladesh','europe']\n}",
      "metadata": {
        "trusted": true
      },
      "outputs": [],
      "execution_count": 2
    },
    {
      "id": "8f3a07e1-02bd-4239-9be4-1b475051ba4b",
      "cell_type": "code",
      "source": "df = pd.DataFrame(dict1)",
      "metadata": {
        "trusted": true
      },
      "outputs": [],
      "execution_count": 3
    },
    {
      "id": "334a1705-3f52-4ae2-8e0d-f202ceba5ce9",
      "cell_type": "code",
      "source": "df.index=[1,2,3,4,5]\n",
      "metadata": {
        "trusted": true
      },
      "outputs": [],
      "execution_count": 4
    },
    {
      "id": "ca75e02c-beb1-4bc0-a509-44891c4ab1f6",
      "cell_type": "code",
      "source": "df.column=('s.no')",
      "metadata": {
        "trusted": true
      },
      "outputs": [],
      "execution_count": 5
    },
    {
      "id": "1850d2b0-23bf-47a8-acd9-8fac55832edc",
      "cell_type": "code",
      "source": "df",
      "metadata": {
        "trusted": true
      },
      "outputs": [
        {
          "execution_count": 6,
          "output_type": "execute_result",
          "data": {
            "text/plain": "     names  marks        city\n1    rumaz     95     karachi\n2   zayyan     34   islamabad\n3    rohan     45       egypt\n4  abhiyan     23  bangladesh\n5  isfahan     78      europe",
            "text/html": "<div>\n<style scoped>\n    .dataframe tbody tr th:only-of-type {\n        vertical-align: middle;\n    }\n\n    .dataframe tbody tr th {\n        vertical-align: top;\n    }\n\n    .dataframe thead th {\n        text-align: right;\n    }\n</style>\n<table border=\"1\" class=\"dataframe\">\n  <thead>\n    <tr style=\"text-align: right;\">\n      <th></th>\n      <th>names</th>\n      <th>marks</th>\n      <th>city</th>\n    </tr>\n  </thead>\n  <tbody>\n    <tr>\n      <th>1</th>\n      <td>rumaz</td>\n      <td>95</td>\n      <td>karachi</td>\n    </tr>\n    <tr>\n      <th>2</th>\n      <td>zayyan</td>\n      <td>34</td>\n      <td>islamabad</td>\n    </tr>\n    <tr>\n      <th>3</th>\n      <td>rohan</td>\n      <td>45</td>\n      <td>egypt</td>\n    </tr>\n    <tr>\n      <th>4</th>\n      <td>abhiyan</td>\n      <td>23</td>\n      <td>bangladesh</td>\n    </tr>\n    <tr>\n      <th>5</th>\n      <td>isfahan</td>\n      <td>78</td>\n      <td>europe</td>\n    </tr>\n  </tbody>\n</table>\n</div>"
          },
          "metadata": {}
        }
      ],
      "execution_count": 6
    },
    {
      "id": "a559b993-876f-457f-a30b-24398e858632",
      "cell_type": "code",
      "source": "df.head()",
      "metadata": {
        "trusted": true
      },
      "outputs": [
        {
          "execution_count": 7,
          "output_type": "execute_result",
          "data": {
            "text/plain": "     names  marks        city\n1    rumaz     95     karachi\n2   zayyan     34   islamabad\n3    rohan     45       egypt\n4  abhiyan     23  bangladesh\n5  isfahan     78      europe",
            "text/html": "<div>\n<style scoped>\n    .dataframe tbody tr th:only-of-type {\n        vertical-align: middle;\n    }\n\n    .dataframe tbody tr th {\n        vertical-align: top;\n    }\n\n    .dataframe thead th {\n        text-align: right;\n    }\n</style>\n<table border=\"1\" class=\"dataframe\">\n  <thead>\n    <tr style=\"text-align: right;\">\n      <th></th>\n      <th>names</th>\n      <th>marks</th>\n      <th>city</th>\n    </tr>\n  </thead>\n  <tbody>\n    <tr>\n      <th>1</th>\n      <td>rumaz</td>\n      <td>95</td>\n      <td>karachi</td>\n    </tr>\n    <tr>\n      <th>2</th>\n      <td>zayyan</td>\n      <td>34</td>\n      <td>islamabad</td>\n    </tr>\n    <tr>\n      <th>3</th>\n      <td>rohan</td>\n      <td>45</td>\n      <td>egypt</td>\n    </tr>\n    <tr>\n      <th>4</th>\n      <td>abhiyan</td>\n      <td>23</td>\n      <td>bangladesh</td>\n    </tr>\n    <tr>\n      <th>5</th>\n      <td>isfahan</td>\n      <td>78</td>\n      <td>europe</td>\n    </tr>\n  </tbody>\n</table>\n</div>"
          },
          "metadata": {}
        }
      ],
      "execution_count": 7
    },
    {
      "id": "e116f356-aab2-4c30-8f0c-d4bbcf65c27a",
      "cell_type": "code",
      "source": "df.tail()",
      "metadata": {
        "trusted": true
      },
      "outputs": [
        {
          "execution_count": 8,
          "output_type": "execute_result",
          "data": {
            "text/plain": "     names  marks        city\n1    rumaz     95     karachi\n2   zayyan     34   islamabad\n3    rohan     45       egypt\n4  abhiyan     23  bangladesh\n5  isfahan     78      europe",
            "text/html": "<div>\n<style scoped>\n    .dataframe tbody tr th:only-of-type {\n        vertical-align: middle;\n    }\n\n    .dataframe tbody tr th {\n        vertical-align: top;\n    }\n\n    .dataframe thead th {\n        text-align: right;\n    }\n</style>\n<table border=\"1\" class=\"dataframe\">\n  <thead>\n    <tr style=\"text-align: right;\">\n      <th></th>\n      <th>names</th>\n      <th>marks</th>\n      <th>city</th>\n    </tr>\n  </thead>\n  <tbody>\n    <tr>\n      <th>1</th>\n      <td>rumaz</td>\n      <td>95</td>\n      <td>karachi</td>\n    </tr>\n    <tr>\n      <th>2</th>\n      <td>zayyan</td>\n      <td>34</td>\n      <td>islamabad</td>\n    </tr>\n    <tr>\n      <th>3</th>\n      <td>rohan</td>\n      <td>45</td>\n      <td>egypt</td>\n    </tr>\n    <tr>\n      <th>4</th>\n      <td>abhiyan</td>\n      <td>23</td>\n      <td>bangladesh</td>\n    </tr>\n    <tr>\n      <th>5</th>\n      <td>isfahan</td>\n      <td>78</td>\n      <td>europe</td>\n    </tr>\n  </tbody>\n</table>\n</div>"
          },
          "metadata": {}
        }
      ],
      "execution_count": 8
    },
    {
      "id": "282c2ec4-ded5-4732-8bd7-eddeab3145c4",
      "cell_type": "code",
      "source": "ser = pd.Series(np.random.rand(12))",
      "metadata": {
        "trusted": true
      },
      "outputs": [],
      "execution_count": 9
    },
    {
      "id": "1f364280-6806-4f18-9db2-ea3324f5b393",
      "cell_type": "code",
      "source": "ser",
      "metadata": {
        "trusted": true
      },
      "outputs": [
        {
          "execution_count": 10,
          "output_type": "execute_result",
          "data": {
            "text/plain": "0     0.505568\n1     0.018536\n2     0.893366\n3     0.023157\n4     0.597578\n5     0.935830\n6     0.069967\n7     0.060821\n8     0.180428\n9     0.117871\n10    0.836325\n11    0.763944\ndtype: float64"
          },
          "metadata": {}
        }
      ],
      "execution_count": 10
    },
    {
      "id": "9cdc0db8-5381-47c1-be16-95310a1fd214",
      "cell_type": "code",
      "source": "type(ser)",
      "metadata": {
        "trusted": true
      },
      "outputs": [
        {
          "execution_count": 11,
          "output_type": "execute_result",
          "data": {
            "text/plain": "pandas.core.series.Series"
          },
          "metadata": {}
        }
      ],
      "execution_count": 11
    },
    {
      "id": "edb758e4-8c40-4a1d-9caa-58615d51d61f",
      "cell_type": "code",
      "source": "newdf = pd.DataFrame(np.random.rand(334,5),index=np.arange(334))",
      "metadata": {
        "trusted": true
      },
      "outputs": [],
      "execution_count": 12
    },
    {
      "id": "e2d3c7de-116f-4533-ae70-bbd98e0e8835",
      "cell_type": "code",
      "source": "newdf.head()",
      "metadata": {
        "trusted": true
      },
      "outputs": [
        {
          "execution_count": 13,
          "output_type": "execute_result",
          "data": {
            "text/plain": "          0         1         2         3         4\n0  0.888263  0.046169  0.591636  0.331264  0.351935\n1  0.314070  0.815956  0.595768  0.680282  0.069006\n2  0.055771  0.591016  0.518951  0.577949  0.624218\n3  0.605822  0.126805  0.707643  0.760552  0.751149\n4  0.165166  0.608367  0.022790  0.951450  0.018919",
            "text/html": "<div>\n<style scoped>\n    .dataframe tbody tr th:only-of-type {\n        vertical-align: middle;\n    }\n\n    .dataframe tbody tr th {\n        vertical-align: top;\n    }\n\n    .dataframe thead th {\n        text-align: right;\n    }\n</style>\n<table border=\"1\" class=\"dataframe\">\n  <thead>\n    <tr style=\"text-align: right;\">\n      <th></th>\n      <th>0</th>\n      <th>1</th>\n      <th>2</th>\n      <th>3</th>\n      <th>4</th>\n    </tr>\n  </thead>\n  <tbody>\n    <tr>\n      <th>0</th>\n      <td>0.888263</td>\n      <td>0.046169</td>\n      <td>0.591636</td>\n      <td>0.331264</td>\n      <td>0.351935</td>\n    </tr>\n    <tr>\n      <th>1</th>\n      <td>0.314070</td>\n      <td>0.815956</td>\n      <td>0.595768</td>\n      <td>0.680282</td>\n      <td>0.069006</td>\n    </tr>\n    <tr>\n      <th>2</th>\n      <td>0.055771</td>\n      <td>0.591016</td>\n      <td>0.518951</td>\n      <td>0.577949</td>\n      <td>0.624218</td>\n    </tr>\n    <tr>\n      <th>3</th>\n      <td>0.605822</td>\n      <td>0.126805</td>\n      <td>0.707643</td>\n      <td>0.760552</td>\n      <td>0.751149</td>\n    </tr>\n    <tr>\n      <th>4</th>\n      <td>0.165166</td>\n      <td>0.608367</td>\n      <td>0.022790</td>\n      <td>0.951450</td>\n      <td>0.018919</td>\n    </tr>\n  </tbody>\n</table>\n</div>"
          },
          "metadata": {}
        }
      ],
      "execution_count": 13
    },
    {
      "id": "79a5d8ec-96e3-48d6-99e2-d1c592b79ae6",
      "cell_type": "code",
      "source": "newdf.describe()",
      "metadata": {
        "trusted": true
      },
      "outputs": [
        {
          "execution_count": 14,
          "output_type": "execute_result",
          "data": {
            "text/plain": "                0           1           2           3           4\ncount  334.000000  334.000000  334.000000  334.000000  334.000000\nmean     0.481585    0.474361    0.493144    0.499439    0.504178\nstd      0.283428    0.284533    0.285510    0.285208    0.285826\nmin      0.000344    0.000498    0.002355    0.002983    0.007581\n25%      0.246733    0.217472    0.242998    0.248512    0.271375\n50%      0.452165    0.470172    0.488585    0.491149    0.483454\n75%      0.727220    0.709544    0.740915    0.745475    0.754444\nmax      0.997633    0.998385    0.998448    0.988234    0.998415",
            "text/html": "<div>\n<style scoped>\n    .dataframe tbody tr th:only-of-type {\n        vertical-align: middle;\n    }\n\n    .dataframe tbody tr th {\n        vertical-align: top;\n    }\n\n    .dataframe thead th {\n        text-align: right;\n    }\n</style>\n<table border=\"1\" class=\"dataframe\">\n  <thead>\n    <tr style=\"text-align: right;\">\n      <th></th>\n      <th>0</th>\n      <th>1</th>\n      <th>2</th>\n      <th>3</th>\n      <th>4</th>\n    </tr>\n  </thead>\n  <tbody>\n    <tr>\n      <th>count</th>\n      <td>334.000000</td>\n      <td>334.000000</td>\n      <td>334.000000</td>\n      <td>334.000000</td>\n      <td>334.000000</td>\n    </tr>\n    <tr>\n      <th>mean</th>\n      <td>0.481585</td>\n      <td>0.474361</td>\n      <td>0.493144</td>\n      <td>0.499439</td>\n      <td>0.504178</td>\n    </tr>\n    <tr>\n      <th>std</th>\n      <td>0.283428</td>\n      <td>0.284533</td>\n      <td>0.285510</td>\n      <td>0.285208</td>\n      <td>0.285826</td>\n    </tr>\n    <tr>\n      <th>min</th>\n      <td>0.000344</td>\n      <td>0.000498</td>\n      <td>0.002355</td>\n      <td>0.002983</td>\n      <td>0.007581</td>\n    </tr>\n    <tr>\n      <th>25%</th>\n      <td>0.246733</td>\n      <td>0.217472</td>\n      <td>0.242998</td>\n      <td>0.248512</td>\n      <td>0.271375</td>\n    </tr>\n    <tr>\n      <th>50%</th>\n      <td>0.452165</td>\n      <td>0.470172</td>\n      <td>0.488585</td>\n      <td>0.491149</td>\n      <td>0.483454</td>\n    </tr>\n    <tr>\n      <th>75%</th>\n      <td>0.727220</td>\n      <td>0.709544</td>\n      <td>0.740915</td>\n      <td>0.745475</td>\n      <td>0.754444</td>\n    </tr>\n    <tr>\n      <th>max</th>\n      <td>0.997633</td>\n      <td>0.998385</td>\n      <td>0.998448</td>\n      <td>0.988234</td>\n      <td>0.998415</td>\n    </tr>\n  </tbody>\n</table>\n</div>"
          },
          "metadata": {}
        }
      ],
      "execution_count": 14
    },
    {
      "id": "d907c183-4583-46d6-ae4b-2ba846c84c07",
      "cell_type": "code",
      "source": "newdf.tail()",
      "metadata": {
        "trusted": true
      },
      "outputs": [
        {
          "execution_count": 15,
          "output_type": "execute_result",
          "data": {
            "text/plain": "            0         1         2         3         4\n329  0.654374  0.813623  0.719809  0.694710  0.978904\n330  0.246068  0.577463  0.421411  0.130040  0.424515\n331  0.797803  0.596781  0.427971  0.636051  0.663481\n332  0.341646  0.222081  0.730123  0.082885  0.313533\n333  0.101376  0.790993  0.478928  0.507336  0.401785",
            "text/html": "<div>\n<style scoped>\n    .dataframe tbody tr th:only-of-type {\n        vertical-align: middle;\n    }\n\n    .dataframe tbody tr th {\n        vertical-align: top;\n    }\n\n    .dataframe thead th {\n        text-align: right;\n    }\n</style>\n<table border=\"1\" class=\"dataframe\">\n  <thead>\n    <tr style=\"text-align: right;\">\n      <th></th>\n      <th>0</th>\n      <th>1</th>\n      <th>2</th>\n      <th>3</th>\n      <th>4</th>\n    </tr>\n  </thead>\n  <tbody>\n    <tr>\n      <th>329</th>\n      <td>0.654374</td>\n      <td>0.813623</td>\n      <td>0.719809</td>\n      <td>0.694710</td>\n      <td>0.978904</td>\n    </tr>\n    <tr>\n      <th>330</th>\n      <td>0.246068</td>\n      <td>0.577463</td>\n      <td>0.421411</td>\n      <td>0.130040</td>\n      <td>0.424515</td>\n    </tr>\n    <tr>\n      <th>331</th>\n      <td>0.797803</td>\n      <td>0.596781</td>\n      <td>0.427971</td>\n      <td>0.636051</td>\n      <td>0.663481</td>\n    </tr>\n    <tr>\n      <th>332</th>\n      <td>0.341646</td>\n      <td>0.222081</td>\n      <td>0.730123</td>\n      <td>0.082885</td>\n      <td>0.313533</td>\n    </tr>\n    <tr>\n      <th>333</th>\n      <td>0.101376</td>\n      <td>0.790993</td>\n      <td>0.478928</td>\n      <td>0.507336</td>\n      <td>0.401785</td>\n    </tr>\n  </tbody>\n</table>\n</div>"
          },
          "metadata": {}
        }
      ],
      "execution_count": 15
    },
    {
      "id": "677188de-b70f-48b3-888e-6d9c79f623dc",
      "cell_type": "code",
      "source": "newdf[1][1]",
      "metadata": {
        "trusted": true
      },
      "outputs": [
        {
          "execution_count": 16,
          "output_type": "execute_result",
          "data": {
            "text/plain": "np.float64(0.8159555841499353)"
          },
          "metadata": {}
        }
      ],
      "execution_count": 16
    },
    {
      "id": "a030c597-5ad0-451b-bfe5-abbb6fc3b036",
      "cell_type": "code",
      "source": "newdf.dtypes\n",
      "metadata": {
        "trusted": true
      },
      "outputs": [
        {
          "execution_count": 17,
          "output_type": "execute_result",
          "data": {
            "text/plain": "0    float64\n1    float64\n2    float64\n3    float64\n4    float64\ndtype: object"
          },
          "metadata": {}
        }
      ],
      "execution_count": 17
    },
    {
      "id": "760e5977-7c70-4e17-abe1-061929761e14",
      "cell_type": "code",
      "source": "newdf[0][0]=\"Rumaz\"",
      "metadata": {
        "trusted": true
      },
      "outputs": [
        {
          "name": "stderr",
          "output_type": "stream",
          "text": "<ipython-input-18-19950fd5fa3f>:1: FutureWarning: ChainedAssignmentError: behaviour will change in pandas 3.0!\nYou are setting values through chained assignment. Currently this works in certain cases, but when using Copy-on-Write (which will become the default behaviour in pandas 3.0) this will never work to update the original DataFrame or Series, because the intermediate object on which we are setting values will behave as a copy.\nA typical example is when you are setting values in a column of a DataFrame, like:\n\ndf[\"col\"][row_indexer] = value\n\nUse `df.loc[row_indexer, \"col\"] = values` instead, to perform the assignment in a single step and ensure this keeps updating the original `df`.\n\nSee the caveats in the documentation: https://pandas.pydata.org/pandas-docs/stable/user_guide/indexing.html#returning-a-view-versus-a-copy\n\n  newdf[0][0]=\"Rumaz\"\n<ipython-input-18-19950fd5fa3f>:1: FutureWarning: Setting an item of incompatible dtype is deprecated and will raise an error in a future version of pandas. Value 'Rumaz' has dtype incompatible with float64, please explicitly cast to a compatible dtype first.\n  newdf[0][0]=\"Rumaz\"\n"
        }
      ],
      "execution_count": 18
    },
    {
      "id": "45b9d82a-3f01-4df2-834a-75e85e695362",
      "cell_type": "code",
      "source": "newdf.head()",
      "metadata": {
        "trusted": true
      },
      "outputs": [
        {
          "execution_count": 19,
          "output_type": "execute_result",
          "data": {
            "text/plain": "          0         1         2         3         4\n0     Rumaz  0.046169  0.591636  0.331264  0.351935\n1   0.31407  0.815956  0.595768  0.680282  0.069006\n2  0.055771  0.591016  0.518951  0.577949  0.624218\n3  0.605822  0.126805  0.707643  0.760552  0.751149\n4  0.165166  0.608367  0.022790  0.951450  0.018919",
            "text/html": "<div>\n<style scoped>\n    .dataframe tbody tr th:only-of-type {\n        vertical-align: middle;\n    }\n\n    .dataframe tbody tr th {\n        vertical-align: top;\n    }\n\n    .dataframe thead th {\n        text-align: right;\n    }\n</style>\n<table border=\"1\" class=\"dataframe\">\n  <thead>\n    <tr style=\"text-align: right;\">\n      <th></th>\n      <th>0</th>\n      <th>1</th>\n      <th>2</th>\n      <th>3</th>\n      <th>4</th>\n    </tr>\n  </thead>\n  <tbody>\n    <tr>\n      <th>0</th>\n      <td>Rumaz</td>\n      <td>0.046169</td>\n      <td>0.591636</td>\n      <td>0.331264</td>\n      <td>0.351935</td>\n    </tr>\n    <tr>\n      <th>1</th>\n      <td>0.31407</td>\n      <td>0.815956</td>\n      <td>0.595768</td>\n      <td>0.680282</td>\n      <td>0.069006</td>\n    </tr>\n    <tr>\n      <th>2</th>\n      <td>0.055771</td>\n      <td>0.591016</td>\n      <td>0.518951</td>\n      <td>0.577949</td>\n      <td>0.624218</td>\n    </tr>\n    <tr>\n      <th>3</th>\n      <td>0.605822</td>\n      <td>0.126805</td>\n      <td>0.707643</td>\n      <td>0.760552</td>\n      <td>0.751149</td>\n    </tr>\n    <tr>\n      <th>4</th>\n      <td>0.165166</td>\n      <td>0.608367</td>\n      <td>0.022790</td>\n      <td>0.951450</td>\n      <td>0.018919</td>\n    </tr>\n  </tbody>\n</table>\n</div>"
          },
          "metadata": {}
        }
      ],
      "execution_count": 19
    },
    {
      "id": "a2c506db-2d70-479f-80f5-9feb7e693069",
      "cell_type": "code",
      "source": "newdf.loc[[1,3],[0]]",
      "metadata": {
        "trusted": true
      },
      "outputs": [
        {
          "execution_count": 20,
          "output_type": "execute_result",
          "data": {
            "text/plain": "          0\n1   0.31407\n3  0.605822",
            "text/html": "<div>\n<style scoped>\n    .dataframe tbody tr th:only-of-type {\n        vertical-align: middle;\n    }\n\n    .dataframe tbody tr th {\n        vertical-align: top;\n    }\n\n    .dataframe thead th {\n        text-align: right;\n    }\n</style>\n<table border=\"1\" class=\"dataframe\">\n  <thead>\n    <tr style=\"text-align: right;\">\n      <th></th>\n      <th>0</th>\n    </tr>\n  </thead>\n  <tbody>\n    <tr>\n      <th>1</th>\n      <td>0.31407</td>\n    </tr>\n    <tr>\n      <th>3</th>\n      <td>0.605822</td>\n    </tr>\n  </tbody>\n</table>\n</div>"
          },
          "metadata": {}
        }
      ],
      "execution_count": 20
    },
    {
      "id": "af1b4ef0-d5d8-4064-b547-d70e0508d042",
      "cell_type": "code",
      "source": "newdf.head()\n",
      "metadata": {
        "trusted": true
      },
      "outputs": [
        {
          "execution_count": 21,
          "output_type": "execute_result",
          "data": {
            "text/plain": "          0         1         2         3         4\n0     Rumaz  0.046169  0.591636  0.331264  0.351935\n1   0.31407  0.815956  0.595768  0.680282  0.069006\n2  0.055771  0.591016  0.518951  0.577949  0.624218\n3  0.605822  0.126805  0.707643  0.760552  0.751149\n4  0.165166  0.608367  0.022790  0.951450  0.018919",
            "text/html": "<div>\n<style scoped>\n    .dataframe tbody tr th:only-of-type {\n        vertical-align: middle;\n    }\n\n    .dataframe tbody tr th {\n        vertical-align: top;\n    }\n\n    .dataframe thead th {\n        text-align: right;\n    }\n</style>\n<table border=\"1\" class=\"dataframe\">\n  <thead>\n    <tr style=\"text-align: right;\">\n      <th></th>\n      <th>0</th>\n      <th>1</th>\n      <th>2</th>\n      <th>3</th>\n      <th>4</th>\n    </tr>\n  </thead>\n  <tbody>\n    <tr>\n      <th>0</th>\n      <td>Rumaz</td>\n      <td>0.046169</td>\n      <td>0.591636</td>\n      <td>0.331264</td>\n      <td>0.351935</td>\n    </tr>\n    <tr>\n      <th>1</th>\n      <td>0.31407</td>\n      <td>0.815956</td>\n      <td>0.595768</td>\n      <td>0.680282</td>\n      <td>0.069006</td>\n    </tr>\n    <tr>\n      <th>2</th>\n      <td>0.055771</td>\n      <td>0.591016</td>\n      <td>0.518951</td>\n      <td>0.577949</td>\n      <td>0.624218</td>\n    </tr>\n    <tr>\n      <th>3</th>\n      <td>0.605822</td>\n      <td>0.126805</td>\n      <td>0.707643</td>\n      <td>0.760552</td>\n      <td>0.751149</td>\n    </tr>\n    <tr>\n      <th>4</th>\n      <td>0.165166</td>\n      <td>0.608367</td>\n      <td>0.022790</td>\n      <td>0.951450</td>\n      <td>0.018919</td>\n    </tr>\n  </tbody>\n</table>\n</div>"
          },
          "metadata": {}
        }
      ],
      "execution_count": 21
    },
    {
      "id": "c3f28394-bb7f-4338-9b44-178ea38ebc1c",
      "cell_type": "code",
      "source": "newdf[[1]].isnull()",
      "metadata": {
        "trusted": true
      },
      "outputs": [
        {
          "execution_count": 22,
          "output_type": "execute_result",
          "data": {
            "text/plain": "         1\n0    False\n1    False\n2    False\n3    False\n4    False\n..     ...\n329  False\n330  False\n331  False\n332  False\n333  False\n\n[334 rows x 1 columns]",
            "text/html": "<div>\n<style scoped>\n    .dataframe tbody tr th:only-of-type {\n        vertical-align: middle;\n    }\n\n    .dataframe tbody tr th {\n        vertical-align: top;\n    }\n\n    .dataframe thead th {\n        text-align: right;\n    }\n</style>\n<table border=\"1\" class=\"dataframe\">\n  <thead>\n    <tr style=\"text-align: right;\">\n      <th></th>\n      <th>1</th>\n    </tr>\n  </thead>\n  <tbody>\n    <tr>\n      <th>0</th>\n      <td>False</td>\n    </tr>\n    <tr>\n      <th>1</th>\n      <td>False</td>\n    </tr>\n    <tr>\n      <th>2</th>\n      <td>False</td>\n    </tr>\n    <tr>\n      <th>3</th>\n      <td>False</td>\n    </tr>\n    <tr>\n      <th>4</th>\n      <td>False</td>\n    </tr>\n    <tr>\n      <th>...</th>\n      <td>...</td>\n    </tr>\n    <tr>\n      <th>329</th>\n      <td>False</td>\n    </tr>\n    <tr>\n      <th>330</th>\n      <td>False</td>\n    </tr>\n    <tr>\n      <th>331</th>\n      <td>False</td>\n    </tr>\n    <tr>\n      <th>332</th>\n      <td>False</td>\n    </tr>\n    <tr>\n      <th>333</th>\n      <td>False</td>\n    </tr>\n  </tbody>\n</table>\n<p>334 rows × 1 columns</p>\n</div>"
          },
          "metadata": {}
        }
      ],
      "execution_count": 22
    },
    {
      "id": "ef6663c5-ab9a-48ac-9780-35ac8ed96b2f",
      "cell_type": "code",
      "source": "newdf.loc[:,[2]]=23",
      "metadata": {
        "trusted": true
      },
      "outputs": [],
      "execution_count": 23
    },
    {
      "id": "32c34b28-3e98-4212-b64b-8b90d9094cff",
      "cell_type": "code",
      "source": "newdf.loc[[2]]=2333",
      "metadata": {
        "trusted": true
      },
      "outputs": [],
      "execution_count": 24
    },
    {
      "id": "b75002ec-6e64-4293-9752-28e3d6a625e4",
      "cell_type": "code",
      "source": "newdf",
      "metadata": {
        "trusted": true
      },
      "outputs": [
        {
          "execution_count": 25,
          "output_type": "execute_result",
          "data": {
            "text/plain": "            0            1       2            3            4\n0       Rumaz     0.046169    23.0     0.331264     0.351935\n1     0.31407     0.815956    23.0     0.680282     0.069006\n2        2333  2333.000000  2333.0  2333.000000  2333.000000\n3    0.605822     0.126805    23.0     0.760552     0.751149\n4    0.165166     0.608367    23.0     0.951450     0.018919\n..        ...          ...     ...          ...          ...\n329  0.654374     0.813623    23.0     0.694710     0.978904\n330  0.246068     0.577463    23.0     0.130040     0.424515\n331  0.797803     0.596781    23.0     0.636051     0.663481\n332  0.341646     0.222081    23.0     0.082885     0.313533\n333  0.101376     0.790993    23.0     0.507336     0.401785\n\n[334 rows x 5 columns]",
            "text/html": "<div>\n<style scoped>\n    .dataframe tbody tr th:only-of-type {\n        vertical-align: middle;\n    }\n\n    .dataframe tbody tr th {\n        vertical-align: top;\n    }\n\n    .dataframe thead th {\n        text-align: right;\n    }\n</style>\n<table border=\"1\" class=\"dataframe\">\n  <thead>\n    <tr style=\"text-align: right;\">\n      <th></th>\n      <th>0</th>\n      <th>1</th>\n      <th>2</th>\n      <th>3</th>\n      <th>4</th>\n    </tr>\n  </thead>\n  <tbody>\n    <tr>\n      <th>0</th>\n      <td>Rumaz</td>\n      <td>0.046169</td>\n      <td>23.0</td>\n      <td>0.331264</td>\n      <td>0.351935</td>\n    </tr>\n    <tr>\n      <th>1</th>\n      <td>0.31407</td>\n      <td>0.815956</td>\n      <td>23.0</td>\n      <td>0.680282</td>\n      <td>0.069006</td>\n    </tr>\n    <tr>\n      <th>2</th>\n      <td>2333</td>\n      <td>2333.000000</td>\n      <td>2333.0</td>\n      <td>2333.000000</td>\n      <td>2333.000000</td>\n    </tr>\n    <tr>\n      <th>3</th>\n      <td>0.605822</td>\n      <td>0.126805</td>\n      <td>23.0</td>\n      <td>0.760552</td>\n      <td>0.751149</td>\n    </tr>\n    <tr>\n      <th>4</th>\n      <td>0.165166</td>\n      <td>0.608367</td>\n      <td>23.0</td>\n      <td>0.951450</td>\n      <td>0.018919</td>\n    </tr>\n    <tr>\n      <th>...</th>\n      <td>...</td>\n      <td>...</td>\n      <td>...</td>\n      <td>...</td>\n      <td>...</td>\n    </tr>\n    <tr>\n      <th>329</th>\n      <td>0.654374</td>\n      <td>0.813623</td>\n      <td>23.0</td>\n      <td>0.694710</td>\n      <td>0.978904</td>\n    </tr>\n    <tr>\n      <th>330</th>\n      <td>0.246068</td>\n      <td>0.577463</td>\n      <td>23.0</td>\n      <td>0.130040</td>\n      <td>0.424515</td>\n    </tr>\n    <tr>\n      <th>331</th>\n      <td>0.797803</td>\n      <td>0.596781</td>\n      <td>23.0</td>\n      <td>0.636051</td>\n      <td>0.663481</td>\n    </tr>\n    <tr>\n      <th>332</th>\n      <td>0.341646</td>\n      <td>0.222081</td>\n      <td>23.0</td>\n      <td>0.082885</td>\n      <td>0.313533</td>\n    </tr>\n    <tr>\n      <th>333</th>\n      <td>0.101376</td>\n      <td>0.790993</td>\n      <td>23.0</td>\n      <td>0.507336</td>\n      <td>0.401785</td>\n    </tr>\n  </tbody>\n</table>\n<p>334 rows × 5 columns</p>\n</div>"
          },
          "metadata": {}
        }
      ],
      "execution_count": 25
    },
    {
      "id": "8efe70d5-9191-4768-b0fe-2d5655deb781",
      "cell_type": "code",
      "source": "newdf[2].isnull()",
      "metadata": {
        "trusted": true
      },
      "outputs": [
        {
          "execution_count": 26,
          "output_type": "execute_result",
          "data": {
            "text/plain": "0      False\n1      False\n2      False\n3      False\n4      False\n       ...  \n329    False\n330    False\n331    False\n332    False\n333    False\nName: 2, Length: 334, dtype: bool"
          },
          "metadata": {}
        }
      ],
      "execution_count": 26
    },
    {
      "id": "e1383bd2-3132-4585-8198-0221c1ee35fd",
      "cell_type": "code",
      "source": "df = pd.DataFrame(np.random.randint(1,6,size=(3,2)))",
      "metadata": {
        "trusted": true
      },
      "outputs": [],
      "execution_count": 27
    },
    {
      "id": "baf7884d-5e29-4295-846f-845b65e3e4dd",
      "cell_type": "code",
      "source": "df",
      "metadata": {
        "trusted": true
      },
      "outputs": [
        {
          "execution_count": 28,
          "output_type": "execute_result",
          "data": {
            "text/plain": "   0  1\n0  2  1\n1  5  5\n2  3  5",
            "text/html": "<div>\n<style scoped>\n    .dataframe tbody tr th:only-of-type {\n        vertical-align: middle;\n    }\n\n    .dataframe tbody tr th {\n        vertical-align: top;\n    }\n\n    .dataframe thead th {\n        text-align: right;\n    }\n</style>\n<table border=\"1\" class=\"dataframe\">\n  <thead>\n    <tr style=\"text-align: right;\">\n      <th></th>\n      <th>0</th>\n      <th>1</th>\n    </tr>\n  </thead>\n  <tbody>\n    <tr>\n      <th>0</th>\n      <td>2</td>\n      <td>1</td>\n    </tr>\n    <tr>\n      <th>1</th>\n      <td>5</td>\n      <td>5</td>\n    </tr>\n    <tr>\n      <th>2</th>\n      <td>3</td>\n      <td>5</td>\n    </tr>\n  </tbody>\n</table>\n</div>"
          },
          "metadata": {}
        }
      ],
      "execution_count": 28
    },
    {
      "id": "702e3185-dbc2-4a6b-ba19-6b849118f537",
      "cell_type": "code",
      "source": "df.describe()",
      "metadata": {
        "trusted": true
      },
      "outputs": [
        {
          "execution_count": 29,
          "output_type": "execute_result",
          "data": {
            "text/plain": "              0         1\ncount  3.000000  3.000000\nmean   3.333333  3.666667\nstd    1.527525  2.309401\nmin    2.000000  1.000000\n25%    2.500000  3.000000\n50%    3.000000  5.000000\n75%    4.000000  5.000000\nmax    5.000000  5.000000",
            "text/html": "<div>\n<style scoped>\n    .dataframe tbody tr th:only-of-type {\n        vertical-align: middle;\n    }\n\n    .dataframe tbody tr th {\n        vertical-align: top;\n    }\n\n    .dataframe thead th {\n        text-align: right;\n    }\n</style>\n<table border=\"1\" class=\"dataframe\">\n  <thead>\n    <tr style=\"text-align: right;\">\n      <th></th>\n      <th>0</th>\n      <th>1</th>\n    </tr>\n  </thead>\n  <tbody>\n    <tr>\n      <th>count</th>\n      <td>3.000000</td>\n      <td>3.000000</td>\n    </tr>\n    <tr>\n      <th>mean</th>\n      <td>3.333333</td>\n      <td>3.666667</td>\n    </tr>\n    <tr>\n      <th>std</th>\n      <td>1.527525</td>\n      <td>2.309401</td>\n    </tr>\n    <tr>\n      <th>min</th>\n      <td>2.000000</td>\n      <td>1.000000</td>\n    </tr>\n    <tr>\n      <th>25%</th>\n      <td>2.500000</td>\n      <td>3.000000</td>\n    </tr>\n    <tr>\n      <th>50%</th>\n      <td>3.000000</td>\n      <td>5.000000</td>\n    </tr>\n    <tr>\n      <th>75%</th>\n      <td>4.000000</td>\n      <td>5.000000</td>\n    </tr>\n    <tr>\n      <th>max</th>\n      <td>5.000000</td>\n      <td>5.000000</td>\n    </tr>\n  </tbody>\n</table>\n</div>"
          },
          "metadata": {}
        }
      ],
      "execution_count": 29
    },
    {
      "id": "4046cbf6-f2da-45fe-b2af-a85b5b80d570",
      "cell_type": "code",
      "source": "df.mean()",
      "metadata": {
        "trusted": true
      },
      "outputs": [
        {
          "execution_count": 30,
          "output_type": "execute_result",
          "data": {
            "text/plain": "0    3.333333\n1    3.666667\ndtype: float64"
          },
          "metadata": {}
        }
      ],
      "execution_count": 30
    },
    {
      "id": "e5b8cb65-79bb-4861-a767-91aa14f5fd6e",
      "cell_type": "code",
      "source": "df.median()",
      "metadata": {
        "trusted": true,
        "jupyter": {
          "source_hidden": true
        }
      },
      "outputs": [
        {
          "execution_count": 31,
          "output_type": "execute_result",
          "data": {
            "text/plain": "0    3.0\n1    5.0\ndtype: float64"
          },
          "metadata": {}
        }
      ],
      "execution_count": 31
    },
    {
      "id": "5a411565-1eca-4e83-b6a6-fc728be15a41",
      "cell_type": "code",
      "source": "df.corr()",
      "metadata": {
        "trusted": true
      },
      "outputs": [
        {
          "execution_count": 32,
          "output_type": "execute_result",
          "data": {
            "text/plain": "          0         1\n0  1.000000  0.755929\n1  0.755929  1.000000",
            "text/html": "<div>\n<style scoped>\n    .dataframe tbody tr th:only-of-type {\n        vertical-align: middle;\n    }\n\n    .dataframe tbody tr th {\n        vertical-align: top;\n    }\n\n    .dataframe thead th {\n        text-align: right;\n    }\n</style>\n<table border=\"1\" class=\"dataframe\">\n  <thead>\n    <tr style=\"text-align: right;\">\n      <th></th>\n      <th>0</th>\n      <th>1</th>\n    </tr>\n  </thead>\n  <tbody>\n    <tr>\n      <th>0</th>\n      <td>1.000000</td>\n      <td>0.755929</td>\n    </tr>\n    <tr>\n      <th>1</th>\n      <td>0.755929</td>\n      <td>1.000000</td>\n    </tr>\n  </tbody>\n</table>\n</div>"
          },
          "metadata": {}
        }
      ],
      "execution_count": 32
    },
    {
      "id": "e44bffd1-22c1-4dc2-b4f4-ec292816de21",
      "cell_type": "code",
      "source": "df.count()\n",
      "metadata": {
        "trusted": true
      },
      "outputs": [
        {
          "execution_count": 33,
          "output_type": "execute_result",
          "data": {
            "text/plain": "0    3\n1    3\ndtype: int64"
          },
          "metadata": {}
        }
      ],
      "execution_count": 33
    },
    {
      "id": "360e75c8-7adf-4bfd-bb26-3f436c2206c7",
      "cell_type": "code",
      "source": "df",
      "metadata": {
        "trusted": true
      },
      "outputs": [
        {
          "execution_count": 34,
          "output_type": "execute_result",
          "data": {
            "text/plain": "   0  1\n0  2  1\n1  5  5\n2  3  5",
            "text/html": "<div>\n<style scoped>\n    .dataframe tbody tr th:only-of-type {\n        vertical-align: middle;\n    }\n\n    .dataframe tbody tr th {\n        vertical-align: top;\n    }\n\n    .dataframe thead th {\n        text-align: right;\n    }\n</style>\n<table border=\"1\" class=\"dataframe\">\n  <thead>\n    <tr style=\"text-align: right;\">\n      <th></th>\n      <th>0</th>\n      <th>1</th>\n    </tr>\n  </thead>\n  <tbody>\n    <tr>\n      <th>0</th>\n      <td>2</td>\n      <td>1</td>\n    </tr>\n    <tr>\n      <th>1</th>\n      <td>5</td>\n      <td>5</td>\n    </tr>\n    <tr>\n      <th>2</th>\n      <td>3</td>\n      <td>5</td>\n    </tr>\n  </tbody>\n</table>\n</div>"
          },
          "metadata": {}
        }
      ],
      "execution_count": 34
    },
    {
      "id": "869521f3-d8b7-4c6a-8ab3-9916649388fd",
      "cell_type": "code",
      "source": "df.T",
      "metadata": {
        "trusted": true
      },
      "outputs": [
        {
          "execution_count": 35,
          "output_type": "execute_result",
          "data": {
            "text/plain": "   0  1  2\n0  2  5  3\n1  1  5  5",
            "text/html": "<div>\n<style scoped>\n    .dataframe tbody tr th:only-of-type {\n        vertical-align: middle;\n    }\n\n    .dataframe tbody tr th {\n        vertical-align: top;\n    }\n\n    .dataframe thead th {\n        text-align: right;\n    }\n</style>\n<table border=\"1\" class=\"dataframe\">\n  <thead>\n    <tr style=\"text-align: right;\">\n      <th></th>\n      <th>0</th>\n      <th>1</th>\n      <th>2</th>\n    </tr>\n  </thead>\n  <tbody>\n    <tr>\n      <th>0</th>\n      <td>2</td>\n      <td>5</td>\n      <td>3</td>\n    </tr>\n    <tr>\n      <th>1</th>\n      <td>1</td>\n      <td>5</td>\n      <td>5</td>\n    </tr>\n  </tbody>\n</table>\n</div>"
          },
          "metadata": {}
        }
      ],
      "execution_count": 35
    },
    {
      "id": "45ee4df3-c856-436d-b4f1-f237fb22ff85",
      "cell_type": "code",
      "source": "df.T",
      "metadata": {
        "trusted": true
      },
      "outputs": [
        {
          "execution_count": 36,
          "output_type": "execute_result",
          "data": {
            "text/plain": "   0  1  2\n0  2  5  3\n1  1  5  5",
            "text/html": "<div>\n<style scoped>\n    .dataframe tbody tr th:only-of-type {\n        vertical-align: middle;\n    }\n\n    .dataframe tbody tr th {\n        vertical-align: top;\n    }\n\n    .dataframe thead th {\n        text-align: right;\n    }\n</style>\n<table border=\"1\" class=\"dataframe\">\n  <thead>\n    <tr style=\"text-align: right;\">\n      <th></th>\n      <th>0</th>\n      <th>1</th>\n      <th>2</th>\n    </tr>\n  </thead>\n  <tbody>\n    <tr>\n      <th>0</th>\n      <td>2</td>\n      <td>5</td>\n      <td>3</td>\n    </tr>\n    <tr>\n      <th>1</th>\n      <td>1</td>\n      <td>5</td>\n      <td>5</td>\n    </tr>\n  </tbody>\n</table>\n</div>"
          },
          "metadata": {}
        }
      ],
      "execution_count": 36
    },
    {
      "id": "da9837e8-bf59-4011-b162-3eb2aaaa00b6",
      "cell_type": "code",
      "source": "df",
      "metadata": {
        "trusted": true
      },
      "outputs": [
        {
          "execution_count": 37,
          "output_type": "execute_result",
          "data": {
            "text/plain": "   0  1\n0  2  1\n1  5  5\n2  3  5",
            "text/html": "<div>\n<style scoped>\n    .dataframe tbody tr th:only-of-type {\n        vertical-align: middle;\n    }\n\n    .dataframe tbody tr th {\n        vertical-align: top;\n    }\n\n    .dataframe thead th {\n        text-align: right;\n    }\n</style>\n<table border=\"1\" class=\"dataframe\">\n  <thead>\n    <tr style=\"text-align: right;\">\n      <th></th>\n      <th>0</th>\n      <th>1</th>\n    </tr>\n  </thead>\n  <tbody>\n    <tr>\n      <th>0</th>\n      <td>2</td>\n      <td>1</td>\n    </tr>\n    <tr>\n      <th>1</th>\n      <td>5</td>\n      <td>5</td>\n    </tr>\n    <tr>\n      <th>2</th>\n      <td>3</td>\n      <td>5</td>\n    </tr>\n  </tbody>\n</table>\n</div>"
          },
          "metadata": {}
        }
      ],
      "execution_count": 37
    },
    {
      "id": "5d8ab50e-c8bd-4e54-80a5-aadcf082d2e0",
      "cell_type": "code",
      "source": "df.count()",
      "metadata": {
        "trusted": true
      },
      "outputs": [
        {
          "execution_count": 38,
          "output_type": "execute_result",
          "data": {
            "text/plain": "0    3\n1    3\ndtype: int64"
          },
          "metadata": {}
        }
      ],
      "execution_count": 38
    },
    {
      "id": "b072dd6e-1a5a-4991-8226-96ddbb2419a1",
      "cell_type": "code",
      "source": "df.max()",
      "metadata": {
        "trusted": true
      },
      "outputs": [
        {
          "execution_count": 39,
          "output_type": "execute_result",
          "data": {
            "text/plain": "0    5\n1    5\ndtype: int32"
          },
          "metadata": {}
        }
      ],
      "execution_count": 39
    },
    {
      "id": "29511543-8530-409f-bd8b-ef72fb525e13",
      "cell_type": "code",
      "source": "df.min()",
      "metadata": {
        "trusted": true
      },
      "outputs": [
        {
          "execution_count": 40,
          "output_type": "execute_result",
          "data": {
            "text/plain": "0    2\n1    1\ndtype: int32"
          },
          "metadata": {}
        }
      ],
      "execution_count": 40
    },
    {
      "id": "72c671b6-5596-41d9-8123-6087e0c8122a",
      "cell_type": "code",
      "source": "df.std()",
      "metadata": {
        "trusted": true
      },
      "outputs": [
        {
          "execution_count": 41,
          "output_type": "execute_result",
          "data": {
            "text/plain": "0    1.527525\n1    2.309401\ndtype: float64"
          },
          "metadata": {}
        }
      ],
      "execution_count": 41
    },
    {
      "id": "9730528a-61f3-4445-9f3e-3a285ba572f5",
      "cell_type": "code",
      "source": "df",
      "metadata": {
        "trusted": true
      },
      "outputs": [
        {
          "execution_count": 42,
          "output_type": "execute_result",
          "data": {
            "text/plain": "   0  1\n0  2  1\n1  5  5\n2  3  5",
            "text/html": "<div>\n<style scoped>\n    .dataframe tbody tr th:only-of-type {\n        vertical-align: middle;\n    }\n\n    .dataframe tbody tr th {\n        vertical-align: top;\n    }\n\n    .dataframe thead th {\n        text-align: right;\n    }\n</style>\n<table border=\"1\" class=\"dataframe\">\n  <thead>\n    <tr style=\"text-align: right;\">\n      <th></th>\n      <th>0</th>\n      <th>1</th>\n    </tr>\n  </thead>\n  <tbody>\n    <tr>\n      <th>0</th>\n      <td>2</td>\n      <td>1</td>\n    </tr>\n    <tr>\n      <th>1</th>\n      <td>5</td>\n      <td>5</td>\n    </tr>\n    <tr>\n      <th>2</th>\n      <td>3</td>\n      <td>5</td>\n    </tr>\n  </tbody>\n</table>\n</div>"
          },
          "metadata": {}
        }
      ],
      "execution_count": 42
    },
    {
      "id": "d48020e3-1cad-4d9d-85c2-5bf1d97d8af2",
      "cell_type": "code",
      "source": "",
      "metadata": {
        "trusted": true
      },
      "outputs": [],
      "execution_count": null
    },
    {
      "id": "ab07a7a3-8564-43f6-8b56-585d44769ff8",
      "cell_type": "code",
      "source": "",
      "metadata": {
        "trusted": true
      },
      "outputs": [],
      "execution_count": null
    }
  ]
}