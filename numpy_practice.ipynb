{
  "metadata": {
    "kernelspec": {
      "name": "python",
      "display_name": "Python (Pyodide)",
      "language": "python"
    },
    "language_info": {
      "codemirror_mode": {
        "name": "python",
        "version": 3
      },
      "file_extension": ".py",
      "mimetype": "text/x-python",
      "name": "python",
      "nbconvert_exporter": "python",
      "pygments_lexer": "ipython3",
      "version": "3.8"
    }
  },
  "nbformat_minor": 5,
  "nbformat": 4,
  "cells": [
    {
      "id": "d8c89524-52b4-47ed-8933-1f336cf393fd",
      "cell_type": "markdown",
      "source": "# Array Creation: conversion from other python structures",
      "metadata": {}
    },
    {
      "id": "e46df12b-0dae-46b2-95dd-79d8c8064ce5",
      "cell_type": "code",
      "source": "import numpy as np",
      "metadata": {
        "trusted": true
      },
      "outputs": [],
      "execution_count": 2
    },
    {
      "id": "ccd85557-9456-4dd3-b343-9e7fbd7082a4",
      "cell_type": "code",
      "source": "listarray = np.array([[1,2,3],[4,5,6],[7,8,9]])",
      "metadata": {
        "trusted": true
      },
      "outputs": [],
      "execution_count": 3
    },
    {
      "id": "44e9bca7-ef04-449b-b0b0-a42203ffba1e",
      "cell_type": "code",
      "source": "listarray",
      "metadata": {
        "trusted": true
      },
      "outputs": [
        {
          "execution_count": 4,
          "output_type": "execute_result",
          "data": {
            "text/plain": "array([[1, 2, 3],\n       [4, 5, 6],\n       [7, 8, 9]])"
          },
          "metadata": {}
        }
      ],
      "execution_count": 4
    },
    {
      "id": "a75b5b00-e36d-403a-8207-bcecbcf99f0a",
      "cell_type": "code",
      "source": "listarray.dtype",
      "metadata": {
        "trusted": true
      },
      "outputs": [
        {
          "execution_count": 5,
          "output_type": "execute_result",
          "data": {
            "text/plain": "dtype('int32')"
          },
          "metadata": {}
        }
      ],
      "execution_count": 5
    },
    {
      "id": "23869bc9-ef41-49af-900a-65210994d59c",
      "cell_type": "code",
      "source": "listarray.shape",
      "metadata": {
        "trusted": true
      },
      "outputs": [
        {
          "execution_count": 7,
          "output_type": "execute_result",
          "data": {
            "text/plain": "(3, 3)"
          },
          "metadata": {}
        }
      ],
      "execution_count": 7
    },
    {
      "id": "8bed5cfb-8877-4450-bee0-d3488139dc97",
      "cell_type": "code",
      "source": "listarray.size",
      "metadata": {
        "trusted": true
      },
      "outputs": [
        {
          "execution_count": 8,
          "output_type": "execute_result",
          "data": {
            "text/plain": "9"
          },
          "metadata": {}
        }
      ],
      "execution_count": 8
    },
    {
      "id": "f355e3f6-44e2-4941-8f59-961752ea9673",
      "cell_type": "code",
      "source": "lspace = np.linspace(1,4,5)",
      "metadata": {
        "trusted": true
      },
      "outputs": [],
      "execution_count": 11
    },
    {
      "id": "a71de501-265d-4f9a-9d6a-05cb30734918",
      "cell_type": "code",
      "source": "lspace",
      "metadata": {
        "trusted": true
      },
      "outputs": [
        {
          "execution_count": 12,
          "output_type": "execute_result",
          "data": {
            "text/plain": "array([1.  , 1.75, 2.5 , 3.25, 4.  ])"
          },
          "metadata": {}
        }
      ],
      "execution_count": 12
    },
    {
      "id": "d0d05f16-3302-436d-bec5-705fed664739",
      "cell_type": "code",
      "source": "rng=np.arange(32)",
      "metadata": {
        "trusted": true
      },
      "outputs": [],
      "execution_count": 13
    },
    {
      "id": "4bb22804-cfbd-4d7f-ba73-cc79a2e467d6",
      "cell_type": "code",
      "source": "rng",
      "metadata": {
        "trusted": true
      },
      "outputs": [
        {
          "execution_count": 14,
          "output_type": "execute_result",
          "data": {
            "text/plain": "array([ 0,  1,  2,  3,  4,  5,  6,  7,  8,  9, 10, 11, 12, 13, 14, 15, 16,\n       17, 18, 19, 20, 21, 22, 23, 24, 25, 26, 27, 28, 29, 30, 31])"
          },
          "metadata": {}
        }
      ],
      "execution_count": 14
    },
    {
      "id": "4f8b4a46-4b75-4872-bbd0-68761decd5c8",
      "cell_type": "code",
      "source": "arr = [[1,2,3],[4,5,6],[7,8,9]]",
      "metadata": {
        "trusted": true
      },
      "outputs": [],
      "execution_count": 15
    },
    {
      "id": "daf7012b-cadd-4726-9a2b-fef4362bc9a5",
      "cell_type": "code",
      "source": "ar=np.array(arr)",
      "metadata": {
        "trusted": true
      },
      "outputs": [],
      "execution_count": 16
    },
    {
      "id": "b04ca81c-454f-4c66-9144-9cad106154ba",
      "cell_type": "code",
      "source": "ar",
      "metadata": {
        "trusted": true
      },
      "outputs": [
        {
          "execution_count": 17,
          "output_type": "execute_result",
          "data": {
            "text/plain": "array([[1, 2, 3],\n       [4, 5, 6],\n       [7, 8, 9]])"
          },
          "metadata": {}
        }
      ],
      "execution_count": 17
    },
    {
      "id": "0d39ce58-0b88-4326-8e2b-6b7699b92f14",
      "cell_type": "code",
      "source": "ar.sum(axis=0)",
      "metadata": {
        "trusted": true
      },
      "outputs": [
        {
          "execution_count": 18,
          "output_type": "execute_result",
          "data": {
            "text/plain": "array([12, 15, 18])"
          },
          "metadata": {}
        }
      ],
      "execution_count": 18
    },
    {
      "id": "1ec13c19-bc73-453f-ba40-0da70c75c444",
      "cell_type": "code",
      "source": "ar.sum(axis=1)",
      "metadata": {
        "trusted": true
      },
      "outputs": [
        {
          "execution_count": 19,
          "output_type": "execute_result",
          "data": {
            "text/plain": "array([ 6, 15, 24])"
          },
          "metadata": {}
        }
      ],
      "execution_count": 19
    },
    {
      "id": "adee0718-69d9-4a40-b13c-177bef38082a",
      "cell_type": "code",
      "source": "ar.T",
      "metadata": {
        "trusted": true
      },
      "outputs": [
        {
          "execution_count": 20,
          "output_type": "execute_result",
          "data": {
            "text/plain": "array([[1, 4, 7],\n       [2, 5, 8],\n       [3, 6, 9]])"
          },
          "metadata": {}
        }
      ],
      "execution_count": 20
    },
    {
      "id": "d32532bd-c886-4ecf-88df-4ad5a3e1b308",
      "cell_type": "code",
      "source": "one=np.array([3,1,44,12])",
      "metadata": {
        "trusted": true
      },
      "outputs": [],
      "execution_count": 21
    },
    {
      "id": "0e867416-6289-45b6-82f4-29812fc032de",
      "cell_type": "code",
      "source": "one.argmax()",
      "metadata": {
        "trusted": true
      },
      "outputs": [
        {
          "execution_count": 22,
          "output_type": "execute_result",
          "data": {
            "text/plain": "np.int32(2)"
          },
          "metadata": {}
        }
      ],
      "execution_count": 22
    },
    {
      "id": "1528f343-96d5-4e6b-83be-0c2896dcb4ab",
      "cell_type": "code",
      "source": "one.argmin()\n",
      "metadata": {
        "trusted": true
      },
      "outputs": [
        {
          "execution_count": 23,
          "output_type": "execute_result",
          "data": {
            "text/plain": "np.int32(1)"
          },
          "metadata": {}
        }
      ],
      "execution_count": 23
    },
    {
      "id": "78fbe677-a85c-440c-ac44-c6be3c43a600",
      "cell_type": "code",
      "source": "one.argsort()",
      "metadata": {
        "trusted": true
      },
      "outputs": [
        {
          "execution_count": 24,
          "output_type": "execute_result",
          "data": {
            "text/plain": "array([1, 0, 3, 2])"
          },
          "metadata": {}
        }
      ],
      "execution_count": 24
    },
    {
      "id": "5ef9431e-bcb6-41e2-b5a2-140804b07bf4",
      "cell_type": "code",
      "source": "one.argmax()",
      "metadata": {
        "trusted": true
      },
      "outputs": [
        {
          "execution_count": 25,
          "output_type": "execute_result",
          "data": {
            "text/plain": "np.int32(2)"
          },
          "metadata": {}
        }
      ],
      "execution_count": 25
    },
    {
      "id": "b63773bd-6ce7-478b-960c-5652443e02a2",
      "cell_type": "code",
      "source": "one.argsort()",
      "metadata": {
        "trusted": true
      },
      "outputs": [
        {
          "execution_count": 26,
          "output_type": "execute_result",
          "data": {
            "text/plain": "array([1, 0, 3, 2])"
          },
          "metadata": {}
        }
      ],
      "execution_count": 26
    },
    {
      "id": "960bc686-1ada-4476-b043-baad5dce3e28",
      "cell_type": "code",
      "source": "ar",
      "metadata": {
        "trusted": true
      },
      "outputs": [
        {
          "execution_count": 27,
          "output_type": "execute_result",
          "data": {
            "text/plain": "array([[1, 2, 3],\n       [4, 5, 6],\n       [7, 8, 9]])"
          },
          "metadata": {}
        }
      ],
      "execution_count": 27
    },
    {
      "id": "fea9428c-8db6-4940-956a-8391497c6447",
      "cell_type": "code",
      "source": "ar.argsort()",
      "metadata": {
        "trusted": true
      },
      "outputs": [
        {
          "execution_count": 28,
          "output_type": "execute_result",
          "data": {
            "text/plain": "array([[0, 1, 2],\n       [0, 1, 2],\n       [0, 1, 2]])"
          },
          "metadata": {}
        }
      ],
      "execution_count": 28
    },
    {
      "id": "7192bb0d-3957-4561-bd7e-b552aa086c93",
      "cell_type": "code",
      "source": "ar.argmax()\n",
      "metadata": {
        "trusted": true
      },
      "outputs": [
        {
          "execution_count": 29,
          "output_type": "execute_result",
          "data": {
            "text/plain": "np.int32(8)"
          },
          "metadata": {}
        }
      ],
      "execution_count": 29
    },
    {
      "id": "c1af595d-bdde-4c1f-94b1-e4beca106162",
      "cell_type": "code",
      "source": "",
      "metadata": {
        "trusted": true
      },
      "outputs": [],
      "execution_count": null
    }
  ]
}